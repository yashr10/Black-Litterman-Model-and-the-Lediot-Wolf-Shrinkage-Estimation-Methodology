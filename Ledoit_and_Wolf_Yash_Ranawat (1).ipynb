{
  "nbformat": 4,
  "nbformat_minor": 0,
  "metadata": {
    "colab": {
      "provenance": []
    },
    "kernelspec": {
      "name": "python3",
      "display_name": "Python 3"
    },
    "language_info": {
      "name": "python"
    }
  },
  "cells": [
    {
      "cell_type": "code",
      "source": [
        "import numpy as np\n",
        "import pandas as pd\n",
        "import cvxpy as cp\n",
        "from sklearn.covariance import LedoitWolf\n",
        "\n",
        "# Load price data (Assume 'prices.csv' with Date as index)\n",
        "df = pd.read_csv(\"/content/price_data no rfr.csv\", index_col=0, parse_dates=True)\n",
        "\n",
        "# Compute simple returns (percentage change)\n",
        "returns = df.pct_change().dropna()\n",
        "\n",
        "# Estimate Ledoit-Wolf covariance matrix\n",
        "lw = LedoitWolf()\n",
        "cov_matrix = lw.fit(returns).covariance_\n",
        "\n",
        "# Mean returns (Ensure it's a NumPy array)\n",
        "expected_returns = returns.mean().values.reshape(-1, 1)  # Daily expected returns as column vector\n",
        "\n",
        "# Number of assets\n",
        "n_assets = len(expected_returns)\n",
        "\n",
        "# Define optimization variables\n",
        "w = cp.Variable((n_assets, 1))  # Asset weights as a column vector\n",
        "\n",
        "# Mean-variance optimization: minimize risk (variance) adjusted by risk_aversion and return\n",
        "risk_aversion = 5  # Adjust as needed\n",
        "\n",
        "portfolio_variance = cp.quad_form(w, cov_matrix)\n",
        "expected_portfolio_return = cp.matmul(expected_returns.T, w)\n",
        "\n",
        "objective = cp.Minimize(risk_aversion * portfolio_variance - expected_portfolio_return)\n",
        "constraints = [\n",
        "    cp.sum(w) == 1,  # Weights sum to 1\n",
        "    w >= 0.02,          # No short-selling\n",
        "    w <= 0.4              # Maximum 35% allocation per asset\n",
        "]\n",
        "\n",
        "# Solve the optimization problem\n",
        "problem = cp.Problem(objective, constraints)\n",
        "problem.solve()\n",
        "\n",
        "# Get optimal weights\n",
        "optimal_weights = w.value.flatten()\n",
        "\n",
        "# Annualize returns and volatility\n",
        "trading_days = 252  # Typical number of trading days in a year\n",
        "\n",
        "# Calculate daily portfolio expected return and volatility\n",
        "daily_expected_return = np.dot(optimal_weights, expected_returns.flatten())\n",
        "daily_variance = np.dot(optimal_weights.T, np.dot(cov_matrix, optimal_weights))\n",
        "daily_volatility = np.sqrt(daily_variance)\n",
        "\n",
        "# Annualization\n",
        "annual_expected_return = daily_expected_return * trading_days\n",
        "annual_volatility = daily_volatility * np.sqrt(trading_days)\n",
        "\n",
        "# Display results\n",
        "portfolio_allocation = pd.DataFrame({'Asset': df.columns, 'Weight': optimal_weights})\n",
        "print(portfolio_allocation)\n",
        "print(f\"\\nAnnualized Expected Portfolio Return: {annual_expected_return:.4f}\")\n",
        "print(f\"Annualized Portfolio Volatility: {annual_volatility:.4f}\")\n"
      ],
      "metadata": {
        "colab": {
          "base_uri": "https://localhost:8080/"
        },
        "id": "A8Lsq5fYcn0x",
        "outputId": "6365cff9-4b90-4b50-831b-1df6b7f7f90d"
      },
      "execution_count": null,
      "outputs": [
        {
          "output_type": "stream",
          "name": "stdout",
          "text": [
            "   Asset    Weight\n",
            "0   ACWX  0.020000\n",
            "1    AGG  0.173176\n",
            "2   BNDX  0.400000\n",
            "3    TLT  0.020000\n",
            "4  ^GSPC  0.386824\n",
            "\n",
            "Annualized Expected Portfolio Return: 0.0645\n",
            "Annualized Portfolio Volatility: 0.0827\n"
          ]
        }
      ]
    }
  ]
}